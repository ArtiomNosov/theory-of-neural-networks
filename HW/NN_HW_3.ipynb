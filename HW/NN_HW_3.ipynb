{
  "nbformat": 4,
  "nbformat_minor": 0,
  "metadata": {
    "colab": {
      "provenance": [],
      "authorship_tag": "ABX9TyMJZqAFnT6LmAaQkzIq92Ep",
      "include_colab_link": true
    },
    "kernelspec": {
      "name": "python3",
      "display_name": "Python 3"
    },
    "language_info": {
      "name": "python"
    }
  },
  "cells": [
    {
      "cell_type": "markdown",
      "metadata": {
        "id": "view-in-github",
        "colab_type": "text"
      },
      "source": [
        "<a href=\"https://colab.research.google.com/github/H20CH3PO2/theory-of-neural-networks/blob/main/HW/NN_HW_3.ipynb\" target=\"_parent\"><img src=\"https://colab.research.google.com/assets/colab-badge.svg\" alt=\"Open In Colab\"/></a>"
      ]
    },
    {
      "cell_type": "code",
      "execution_count": null,
      "metadata": {
        "id": "OZ1CVry9I-VO"
      },
      "outputs": [],
      "source": [
        "# Не выполнена!!!\n",
        "# create max(x1, x2, x3) on NN with less then 12 neurons"
      ]
    },
    {
      "cell_type": "code",
      "source": [
        "import numpy as np"
      ],
      "metadata": {
        "id": "L04r4r0vJI7s"
      },
      "execution_count": null,
      "outputs": []
    },
    {
      "cell_type": "code",
      "source": [
        "weights0 = np.array([\n",
        "    [ 1, 0,-1],\n",
        "    [-1, 1, 0],\n",
        "    [ 0,-1, 1],\n",
        "])"
      ],
      "metadata": {
        "id": "aG72MvK3KMwd"
      },
      "execution_count": null,
      "outputs": []
    },
    {
      "cell_type": "code",
      "source": [
        "weights1 = np.array([\n",
        "    [ 1,-1, 0],\n",
        "    [ 0, 1,-1],\n",
        "    [-1, 0, 1]\n",
        "])"
      ],
      "metadata": {
        "id": "vXGBR5_MJToS"
      },
      "execution_count": null,
      "outputs": []
    },
    {
      "cell_type": "code",
      "source": [
        "def y0(x):\n",
        "  if (x > 0):\n",
        "    return 1\n",
        "  return -1\n",
        "\n",
        "def y1(x):\n",
        "  if (x > 0):\n",
        "    return 1\n",
        "  return 0\n",
        "\n",
        "def y2(x):\n",
        "  return x"
      ],
      "metadata": {
        "id": "uKgBJfNKK0Gc"
      },
      "execution_count": null,
      "outputs": []
    },
    {
      "cell_type": "code",
      "source": [
        "x = np.array([2, 3, 3])"
      ],
      "metadata": {
        "id": "9V8dh_5GYO4N"
      },
      "execution_count": null,
      "outputs": []
    },
    {
      "cell_type": "code",
      "source": [
        "y0_v = np.vectorize(y0)"
      ],
      "metadata": {
        "id": "SNahAwqFaWGh"
      },
      "execution_count": null,
      "outputs": []
    },
    {
      "cell_type": "code",
      "source": [
        "r0 = np.sum((x * weights0.T).T, axis=0)\n",
        "r0"
      ],
      "metadata": {
        "colab": {
          "base_uri": "https://localhost:8080/"
        },
        "id": "AVDhEgfXZbER",
        "outputId": "c2dda2ec-c658-4a2e-91f7-bf753737f642"
      },
      "execution_count": null,
      "outputs": [
        {
          "output_type": "execute_result",
          "data": {
            "text/plain": [
              "array([-1,  0,  1])"
            ]
          },
          "metadata": {},
          "execution_count": 104
        }
      ]
    },
    {
      "cell_type": "code",
      "source": [
        "r1 = y0_v(r0)\n",
        "r1"
      ],
      "metadata": {
        "colab": {
          "base_uri": "https://localhost:8080/"
        },
        "id": "DoSKtTmhaclL",
        "outputId": "266e363a-b41b-4718-a148-bf72215b411f"
      },
      "execution_count": null,
      "outputs": [
        {
          "output_type": "execute_result",
          "data": {
            "text/plain": [
              "array([-1, -1,  1])"
            ]
          },
          "metadata": {},
          "execution_count": 105
        }
      ]
    },
    {
      "cell_type": "code",
      "source": [
        "r2 = np.sum((weights1.T * r1).T, axis=0)\n",
        "r2"
      ],
      "metadata": {
        "colab": {
          "base_uri": "https://localhost:8080/"
        },
        "id": "KJ_VbW4cah5M",
        "outputId": "9e6939df-e2fb-4b08-957b-da149af3c354"
      },
      "execution_count": null,
      "outputs": [
        {
          "output_type": "execute_result",
          "data": {
            "text/plain": [
              "array([-2,  0,  2])"
            ]
          },
          "metadata": {},
          "execution_count": 106
        }
      ]
    },
    {
      "cell_type": "code",
      "source": [
        "y1_v = np.vectorize(y1)"
      ],
      "metadata": {
        "id": "HyXg0M43baM6"
      },
      "execution_count": null,
      "outputs": []
    },
    {
      "cell_type": "code",
      "source": [
        "y1_v(r2 - np.array([0.5, 0.5, 0.5]))"
      ],
      "metadata": {
        "colab": {
          "base_uri": "https://localhost:8080/"
        },
        "id": "G6twXB6bbbwt",
        "outputId": "e8ba4f2a-0167-47b7-992b-06ac011ad926"
      },
      "execution_count": null,
      "outputs": [
        {
          "output_type": "execute_result",
          "data": {
            "text/plain": [
              "array([0, 0, 1])"
            ]
          },
          "metadata": {},
          "execution_count": 108
        }
      ]
    }
  ]
}